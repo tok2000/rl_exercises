{
 "cells": [
  {
   "cell_type": "markdown",
   "metadata": {
    "deletable": false,
    "editable": false,
    "nbgrader": {
     "cell_type": "markdown",
     "checksum": "f5347a34fd50441f5f5472f6b3c4b278",
     "grade": false,
     "grade_id": "cell-230630b07a6bced0",
     "locked": true,
     "schema_version": 3,
     "solution": false,
     "task": false
    }
   },
   "source": [
    "# Exercise 2: Dynamic Programming\n",
    "\n",
    "## 1) Policy Evaluation\n",
    "\n",
    "On Reunification day you decide to do a pub crawl with your friends.\n",
    "Therefore, you have to drink a beer each in three different pubs. \n",
    "There are six good pubs available in town, you start at the schloss and will (hopefully) end up at the banks of Neckar. The problem is depicted in the following picture:\n",
    "\n",
    "![](mannheim_pub_crawl.png)\n",
    "\n",
    "In our first example we follow the 50/50 policy. \n",
    "So after drinking in a pub - e.g. Cafe Vienna, there is a $50 \\, \\%$ probability to go \"east\" to the Blau and  $50\\, \\%$ probability to go \"west\" to the Kombinat.\n",
    "Evaluate the state values using policy evaluation ($v_\\mathcal{X} = \\mathcal{R}_\\mathcal{X} + \\gamma \\mathcal{P}_{xx'} v_\\mathcal{X}$):\n",
    "\n",
    "\\begin{align*}\n",
    "\\begin{bmatrix}\n",
    "v^{50/50}_{1}\\\\\n",
    ".\\\\\n",
    ".\\\\\n",
    ".\\\\\n",
    "v^{50/50}_{n}\\\\\n",
    "\\end{bmatrix}\n",
    "=\n",
    "\\begin{bmatrix}\n",
    "\\mathcal{R}^{50/50}_{1}\\\\\n",
    ".\\\\\n",
    ".\\\\\n",
    ".\\\\\n",
    "\\mathcal{R}^{50/50}_{n}\\\\\n",
    "\\end{bmatrix}\n",
    "+\n",
    "\\gamma\n",
    "\\begin{bmatrix}\n",
    "{p}^{50/50}_{11}&...&{p}^{50/50}_{1n}\\\\\n",
    ".& &.\\\\\n",
    ".& &.\\\\\n",
    ".& &.\\\\\n",
    "{p}^{50/50}_{n1}&...&{p}^{50/50}_{nn}\\\\\n",
    "\\end{bmatrix}\n",
    "\\begin{bmatrix}\n",
    "v^{50/50}_{1}\\\\\n",
    ".\\\\\n",
    ".\\\\\n",
    ".\\\\\n",
    "v^{50/50}_{n}\\\\\n",
    "\\end{bmatrix}\n",
    "\\end{align*}\n",
    "\n",
    "The rewards are given as negative numbers next to the arrows and represent the distances between two bars as a penalty.\n",
    "In this exercise we will set $\\gamma = 0.9$. \n",
    "In the shown problem we have $n = 8$ states (pubs, including start-schloss and end-neckar), ordered as given by the state space:\n",
    "\n",
    "\\begin{align*}\n",
    "\\mathcal{X} =\n",
    "\\left\\lbrace \\begin{matrix}\n",
    "\\text{Start: Schloss}\\\\\n",
    "\\text{Hagestolz}\\\\\n",
    "\\text{Cafe Vienna}\\\\\n",
    "\\text{Blau}\\\\\n",
    "\\text{Kombinat}\\\\\n",
    "\\text{Kazzwoo}\\\\\n",
    "\\text{Römer}\\\\\n",
    "\\text{End: Neckar}\\\\\n",
    "\\end{matrix}\n",
    "\\right\\rbrace\n",
    "\\end{align*}\n",
    "\n",
    "Use a little python script to calculate the state values!\n",
    "\n",
    "(Hint: First calculate the expected reward for each state.)"
   ]
  },
  {
   "cell_type": "markdown",
   "metadata": {
    "deletable": false,
    "nbgrader": {
     "cell_type": "markdown",
     "checksum": "30a73670fc81c873cfd9b64ea3df545f",
     "grade": true,
     "grade_id": "cell-16d89aafe7b794c3",
     "locked": false,
     "points": 0,
     "schema_version": 3,
     "solution": true,
     "task": false
    }
   },
   "source": [
    "YOUR ANSWER HERE"
   ]
  },
  {
   "cell_type": "code",
   "execution_count": 1,
   "metadata": {
    "deletable": false,
    "nbgrader": {
     "cell_type": "code",
     "checksum": "b37e13abd8538840a34976ee43b0ea15",
     "grade": false,
     "grade_id": "cell-c8311eb3e04caeaf",
     "locked": false,
     "schema_version": 3,
     "solution": true,
     "task": false
    }
   },
   "outputs": [
    {
     "name": "stdout",
     "output_type": "stream",
     "text": [
      "The state values are:  [[-11.591]\n",
      " [ -8.99 ]\n",
      " [ -8.99 ]\n",
      " [ -6.1  ]\n",
      " [ -6.1  ]\n",
      " [ -6.   ]\n",
      " [ -2.   ]\n",
      " [  0.   ]]\n"
     ]
    }
   ],
   "source": [
    "import numpy as np\n",
    "\n",
    "# define given parameters\n",
    "gamma = 0.9 # discount factor\n",
    "\n",
    "# YOUR CODE HERE\n",
    "P_xx = np.array([[0, 0.5, 0.5,   0,   0,   0,   0,   0],\n",
    "                 [0,   0,   0, 0.5, 0.5,   0,   0,   0],\n",
    "                 [0,   0,   0, 0.5, 0.5,   0,   0,   0],\n",
    "                 [0,   0,   0,   0,   0, 0.5, 0.5,   0],\n",
    "                 [0,   0,   0,   0,   0, 0.5, 0.5,   0],\n",
    "                 [0,   0,   0,   0,   0,   0,   0,   1],\n",
    "                 [0,   0,   0,   0,   0,   0,   0,   1],\n",
    "                 [0,   0,   0,   0,   0,   0,   0,   1]]) # state trasition probability\n",
    "\n",
    "r_X = np.array([-3.5, -3.5, -3.5, -2.5, -2.5, -6, -2, 0]) # rewards\n",
    "r_X = r_X.reshape(-1, 1) # make column vector\n",
    "\n",
    "v_X = np.matmul(np.linalg.inv(np.eye(8)-gamma*P_xx) , r_X)\n",
    "\n",
    "### END SOLUTION\n",
    "\n",
    "print(\"The state values are: \", v_X)\n",
    "\n"
   ]
  },
  {
   "cell_type": "markdown",
   "metadata": {
    "deletable": false,
    "editable": false,
    "nbgrader": {
     "cell_type": "markdown",
     "checksum": "224b94cd650e819917b244f69fdc1103",
     "grade": false,
     "grade_id": "cell-707636577622b626",
     "locked": true,
     "schema_version": 3,
     "solution": false,
     "task": false
    }
   },
   "source": [
    "## 2) Exhaustive Policy Search \n",
    "\n",
    "From now on use $\\gamma = 1$.\n",
    "\n",
    "As you have pre knowledge from your master degree, you try to minimize the distance of the way you have to take during your tour in order to have more time in the pubs. Therefore, you perform the following exhaustive search algorithm:\n",
    "\n",
    "1. Write down all possible path-permutations and calculate the distances.\n",
    "2. Which is the best path concerning most beer per distance?\n",
    "3. Derive the formula to calculate the number of necessary path comparisons. \n",
    "\n"
   ]
  },
  {
   "cell_type": "markdown",
   "metadata": {
    "deletable": false,
    "nbgrader": {
     "cell_type": "markdown",
     "checksum": "6a8296c845ae57a09b886c3e42a1ffba",
     "grade": true,
     "grade_id": "cell-e069b4ff0546056a",
     "locked": false,
     "points": 0,
     "schema_version": 3,
     "solution": true,
     "task": false
    }
   },
   "source": [
    "YOUR ANSWER HERE"
   ]
  },
  {
   "cell_type": "markdown",
   "metadata": {},
   "source": [
    "Hagestolz $\\Rightarrow$ Blau $\\Rightarrow$ Kazzwoo = -12\n",
    "\n",
    "Hagestolz $\\Rightarrow$ Blau $\\Rightarrow$ Römer = -11\n",
    "\n",
    "Hagestolz $\\Rightarrow$ Kombinat $\\Rightarrow$ Kazzwoo = -19\n",
    "\n",
    "Hagestolz $\\Rightarrow$ Kombinat $\\Rightarrow$ Römer = -14\n",
    "\n",
    "Cafe Vienna $\\Rightarrow$ Blau $\\Rightarrow$ Kazzwoo = -14\n",
    "\n",
    "Cafe Vienna $\\Rightarrow$ Blau $\\Rightarrow$ Römer = -13\n",
    "\n",
    "Cafe Vienna $\\Rightarrow$ Kombinat $\\Rightarrow$ Kazzwoo = -15\n",
    "\n",
    "Cafe Vienna $\\Rightarrow$ Kombinat $\\Rightarrow$ Römer = -10  $\\Leftarrow$ **Best Possible Path**\n",
    "\n",
    "Choice of two, three times. Order of chosen actions $\\{up, down\\}$ is important and number of choices stays the same. The number of different paths is therefore given by: $N^k = 2^3 = 8$. So the number of necessary path comparisons is $N^k -1 = 2^3 -1= 7$.\n",
    "\n",
    "With number of decisions $k$ and possible options per decision $N$."
   ]
  },
  {
   "cell_type": "markdown",
   "metadata": {
    "deletable": false,
    "editable": false,
    "nbgrader": {
     "cell_type": "markdown",
     "checksum": "d38c1b154628492911360f58bee39d56",
     "grade": false,
     "grade_id": "cell-c82401280b863042",
     "locked": true,
     "schema_version": 3,
     "solution": false,
     "task": false
    }
   },
   "source": [
    "## 3) Dynamic Programming - The Idea\n",
    "\n",
    "Trying out all combinations might not be best for your liver, so you want to solve the problem above using dynamic programming. \n",
    "\n",
    "Making use of value iteration, derive the values resulting from the optimal policy: $v_{i+1}^*(x_k) = \\text{max}_u (r_{k+1} + v_{i}^*(x_{k+1}))$.\n",
    "\n",
    "\n",
    "\n",
    "How many value comparisons have to be made?"
   ]
  },
  {
   "cell_type": "markdown",
   "metadata": {
    "deletable": false,
    "nbgrader": {
     "cell_type": "markdown",
     "checksum": "8c3d907c1a1dcfb87f4bf40bedb875d1",
     "grade": true,
     "grade_id": "cell-d0d9f6387127340b",
     "locked": false,
     "points": 0,
     "schema_version": 3,
     "solution": true,
     "task": false
    }
   },
   "source": [
    "YOUR ANSWER HERE"
   ]
  },
  {
   "cell_type": "markdown",
   "metadata": {},
   "source": [
    "Since we know the model, we are able to begin the evaluation in the end state and can derive the final state values directly: \n",
    "\n",
    "If in Kazzwoo or Römer, there is no choice of way, so the value of these locations is directly given.\n",
    "\n",
    "\\begin{align}\n",
    "v(\\text{Kazzwoo})&=-6 \\nonumber \\\\\n",
    "v(\\text{Römer})&=-2\n",
    "\\nonumber\n",
    "\\end{align}\n",
    "\n",
    "If in Blau or Kombinat, the choice where to go is determined by the distance and the future value:\n",
    "\n",
    "\\begin{align}\n",
    "v(\\text{Blau})&=-1+v(\\text{Kazzwoo})=-7  \\nonumber \\\\\n",
    "v(\\text{Blau})&=-4+v(\\text{Römer})=-6 \\hspace{0.5cm} \\Leftarrow \\text{optimal choice}\n",
    "\\nonumber \\\\\n",
    "\\end{align}\n",
    "\n",
    "\\begin{align}\n",
    "v(\\text{Kombinat})&=-3+v(\\text{Kazzwoo})=-9 \\nonumber \\\\\n",
    "v(\\text{Kombinat})&=-2+v(\\text{Römer})=-4 \\hspace{0.5cm} \\Leftarrow \\text{optimal choice} \\nonumber \\\\\n",
    "\\end{align}\n",
    "\n",
    "And go on like this:\n",
    "\n",
    "\\begin{align}\n",
    "v(\\text{Hagestolz})&=-1+v(\\text{Blau})=-7 \\hspace{0.5cm} \\Leftarrow \\text{optimal choice} \\nonumber \\\\\n",
    "v(\\text{Hagestolz})&=-6+v(\\text{Kombinat})=-10 \\nonumber \n",
    "\\end{align}\n",
    "\n",
    "\\begin{align}\n",
    "v(\\text{Cafe Vienna})&=-4+v(\\text{Blau})=-10  \\nonumber  \\\\\n",
    "v(\\text{Cafe Vienna})&=-3+v(\\text{Kombinat})=-7 \\hspace{0.5cm} \\Leftarrow \\text{optimal choice} \\nonumber \\\\\n",
    "\\end{align}\n",
    "\n",
    "Finally, we decide where to start:\n",
    "\n",
    "\\begin{align}\n",
    "v(\\text{Schloss})&=-4+v(\\text{Hagestolz})=-11 \\nonumber \\\\\n",
    "v(\\text{Schloss})&=-3+v(\\text{Cafe Vienna})=-10 \\hspace{0.5cm} \\Leftarrow \\text{optimal choice} \\nonumber \n",
    "\\end{align}\n",
    "\n",
    "\n",
    "i \\ x      | Start  |   H    |  V    |   B    |   K    |  Z    |   R    |  End\n",
    "-------- | ------ | ------ | ------ | ------ | ------ | ------ | ------ | ------ \n",
    "    0    |   0    |   0    |   0    |   0    |   0    |   0    |   0    |   0\n",
    "    1    |   -10  |  -7   |   -7  |   -6  |   -4  |   -6   |   -2   |   0\n",
    "\n",
    "So we have to calculate the value of 5 states (4 pubs and 1 starting node) for both of the possible choices to be made. The 2 states in direct reach of the terminal node do not allow choices. The number of comparisons is therefore given by $N k -1 = 2 \\cdot 3 -1 = 5$ which is much better for large problems than an exhaustive search, if you start clever."
   ]
  },
  {
   "cell_type": "markdown",
   "metadata": {},
   "source": []
  }
 ],
 "metadata": {
  "kernelspec": {
   "display_name": "base",
   "language": "python",
   "name": "python3"
  },
  "language_info": {
   "codemirror_mode": {
    "name": "ipython",
    "version": 3
   },
   "file_extension": ".py",
   "mimetype": "text/x-python",
   "name": "python",
   "nbconvert_exporter": "python",
   "pygments_lexer": "ipython3",
   "version": "3.11.5"
  }
 },
 "nbformat": 4,
 "nbformat_minor": 2
}
