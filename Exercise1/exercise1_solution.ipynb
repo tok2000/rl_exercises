{
 "cells": [
  {
   "cell_type": "markdown",
   "metadata": {},
   "source": [
    "# Exercise 1: Markov Chains and Markov Decision Processes (MDP) \n",
    "\n",
    "This exercise deals with the formal handling of Markov chains and Markov decision processes. \n",
    "\n",
    "## 1) Markov Chain: State Transition\n",
    "The graph shows the working life problem. \n",
    "The nodes show the states.\n",
    "The arrows define the possible transitions to other states and the numbers besides the arrows define the propability of the corresponding transition.\n",
    "If you are for example in the state \"Wake Up\", with 20% probability you go for exercise& with 50% probability you browse social media, with 10% probability you watch a movie, with 10% probabilty you go to work and with 10% probabilty you end up sleeping.\n",
    "\n",
    "Define the state transition probability matrix $\\mathcal{P}_{xx'}$ of the graph shown in the figure below!\n",
    "\n",
    "![](life_problem_graph.png)\n",
    "\n",
    "With $p_k = \\begin{bmatrix}\n",
    "\\text{Pr}_k \\lbrace \\text{Wake Up} \\rbrace \\\\\n",
    "\\text{Pr}_k \\lbrace \\text{Exercise} \\rbrace \\\\\n",
    "\\text{Pr}_k \\lbrace \\text{Browse Social Media} \\rbrace \\\\\n",
    "\\text{Pr}_k \\lbrace \\text{Work} \\rbrace \\\\\n",
    "\\text{Pr}_k \\lbrace \\text{Watch a Movie}\\rbrace \\\\\n",
    "\\text{Pr}_k \\lbrace \\text{Sleep} \\rbrace \\\\\n",
    "\\end{bmatrix}^\\text{T}$"
   ]
  },
  {
   "cell_type": "markdown",
   "metadata": {},
   "source": []
  },
  {
   "cell_type": "markdown",
   "metadata": {},
   "source": [
    "# YOUR ANSWER HERE!! "
   ]
  },
  {
   "cell_type": "code",
   "execution_count": 1,
   "metadata": {},
   "outputs": [
    {
     "name": "stdout",
     "output_type": "stream",
     "text": [
      "[[0.  0.2 0.5 0.1 0.1 0.1]\n",
      " [0.  0.  0.2 0.5 0.  0.3]\n",
      " [0.  0.4 0.  0.6 0.  0. ]\n",
      " [0.  0.1 0.3 0.  0.2 0.4]\n",
      " [0.  0.  0.  0.1 0.7 0.2]\n",
      " [0.  0.  0.  0.  0.  0. ]]\n"
     ]
    }
   ],
   "source": [
    "# YOUR ANSWER HERE!! \n",
    "import numpy as np\n",
    "P_xx = np.array([[0, 0.2, 0.5, 0.1, 0.1, 0.1],\n",
    "                 [0, 0, 0.2, 0.5, 0, 0.3],\n",
    "                 [0, 0.4, 0, 0.6, 0, 0],\n",
    "                 [0, 0.1, 0.3, 0, 0.2, 0.4],\n",
    "                 [0, 0, 0, 0.1, 0.7, 0.2],\n",
    "                 [0, 0, 0, 0, 0, 0]]) \n",
    "print(P_xx)"
   ]
  },
  {
   "cell_type": "markdown",
   "metadata": {},
   "source": []
  },
  {
   "cell_type": "markdown",
   "metadata": {},
   "source": [
    "## 2) Markov Reward Process: Evaluating States\n",
    "\n",
    "In the following rewards for every state are defined.\n",
    "\n",
    "Given the reward distribution $r_\\mathcal{X}$, calculate the state-values $v_\\mathcal{X}$.  \n",
    "\n",
    "The states are defined by:\n",
    "$\\mathcal{X} = \\left\\lbrace \\begin{matrix}\n",
    "\\text{Wake Up}\\\\\n",
    "\\text{Exercise}\\\\\n",
    "\\text{Browse Social Media}\\\\\n",
    "\\text{Work}\\\\\n",
    "\\text{Watch a Movie}\\\\\n",
    "\\text{Sleep}\\\\\n",
    "\\end{matrix}\n",
    "\\right\\rbrace$\n",
    "\n",
    "The rewards are defined by:\n",
    "$r_\\mathcal{X} = \\begin{bmatrix}\n",
    "+1\\\\\n",
    "+3\\\\\n",
    "-2\\\\\n",
    "+2\\\\\n",
    "+1\\\\\n",
    "0\\\\\n",
    "\\end{bmatrix}$\n",
    "\n",
    "The state-value is defined by the state-value Bellman equation: $v_\\mathcal{X} = r_\\mathcal{X} + \\gamma \\mathcal{P}_{xx'} v_\\mathcal{X}$. Assume that $\\gamma = 0.9$ and write a Python program to calculate $v_\\mathcal{X}$. Which state is most promising? Why?\n",
    "\n",
    "Which state is most promising when $\\gamma = 0.1$?"
   ]
  },
  {
   "cell_type": "markdown",
   "metadata": {},
   "source": [
    "# YOUR ANSWER HERE!! "
   ]
  },
  {
   "cell_type": "code",
   "execution_count": 17,
   "metadata": {},
   "outputs": [
    {
     "name": "stdout",
     "output_type": "stream",
     "text": [
      "For Gamma 0.9, State-Value v_X = \n",
      " [[3.26849006]\n",
      " [4.88906995]\n",
      " [1.66689895]\n",
      " [3.53117364]\n",
      " [3.56163683]\n",
      " [0.        ]]\n",
      "For Gamma 0.9, Most promising state is Exercise with state value 4.8890699490603335\n",
      "For Gamma 0.1, State-Value v_X = \n",
      " [[ 1.00439251]\n",
      " [ 3.06484478]\n",
      " [-1.75741452]\n",
      " [ 1.99986147]\n",
      " [ 1.0967727 ]\n",
      " [ 0.        ]]\n",
      "For Gamma 0.1, Most promising state is Exercise with state value 3.064844782900193\n"
     ]
    }
   ],
   "source": [
    "import numpy as np\n",
    "\n",
    "# define given parameters\n",
    "gamma_1 = 0.9 # discount factor 0.9\n",
    "gamma_2 = 0.1 # discount factor 0.1\n",
    "\n",
    "P_xx = np.array([[0, 0.2, 0.5, 0.1, 0.1, 0.1],\n",
    "                 [0, 0, 0.2, 0.5, 0, 0.3],\n",
    "                 [0, 0.4, 0, 0.6, 0, 0],\n",
    "                 [0, 0.1, 0.3, 0, 0.2, 0.4],\n",
    "                 [0, 0, 0, 0.1, 0.7, 0.2],\n",
    "                 [0, 0, 0, 0, 0, 0]]) # state trasition probability\n",
    "\n",
    "r_X = np.array([1, 3, -2, 2, 1, 0]).reshape(-1, 1) # rewards as a column vector\n",
    "\n",
    "X = [\"Wake Up\", \"Exercise\", \"Browse Social Media\", \"Work\", \"Watch a Movie\", \"Sleep\"]\n",
    "\n",
    "v_X = np.matmul(np.linalg.inv(np.eye(6)-gamma_1*P_xx) , r_X) # for gamma = 0.2\n",
    "\n",
    "print(\"For Gamma 0.9, State-Value v_X = \\n\", v_X)\n",
    "\n",
    "print(\"For Gamma 0.9, Most promising state is {} with state value {}\".format(X[np.argmax(v_X)], np.max(v_X)))\n",
    "\n",
    "v_X = np.matmul(np.linalg.inv(np.eye(6)-gamma_2*P_xx) , r_X) # for gamma = 0.2\n",
    "\n",
    "print(\"For Gamma 0.1, State-Value v_X = \\n\", v_X)\n",
    "\n",
    "print(\"For Gamma 0.1, Most promising state is {} with state value {}\".format(X[np.argmax(v_X)], np.max(v_X)))"
   ]
  },
  {
   "cell_type": "markdown",
   "metadata": {},
   "source": [
    "From the state-value Bellman equation we know,\n",
    "\\begin{align}\n",
    "v_\\mathcal{X} &= r_\\mathcal{X} + \\gamma \\mathcal{P}_{xx'} v_\\mathcal{X}\\\\\n",
    "v_\\mathcal{X} - \\gamma \\mathcal{P}_{xx'} v_\\mathcal{X} &= r_\\mathcal{X}\\\\\n",
    "\\left( I_6 - \\gamma \\mathcal{P}_{xx'} \\right) v_\\mathcal{X} &= r_\\mathcal{X}\\\\\n",
    "v_\\mathcal{X} &= \\left( I_6 - \\gamma \\mathcal{P}_{xx'} \\right)^{-1} r_\\mathcal{X}\\\\\n",
    "\\end{align}\n",
    "\n",
    "Now,\n",
    "given the state trasition probability made refering to the figure,\n",
    "\\begin{align} \n",
    "\\mathcal{P}_{xx'} = \\begin{bmatrix}\n",
    "0 & 0.2 & 0.5 & 0.1 & 0.1 & 0.1 \\\\\n",
    "0 & 0 & 0.2 & 0.5 & 0 & 0.3 \\\\\n",
    "0 & 0.4 & 0 & 0.6 & 0 & 0 \\\\\n",
    "0 & 0.1 & 0.3 & 0 & 0.2 & 0.4 \\\\\n",
    "0 & 0 & 0 & 0.1 & 0.7 & 0.2 \\\\\n",
    "0 & 0 & 0 & 0 & 0 & 0 \\\\\n",
    "\\end{bmatrix}\n",
    "\\nonumber\n",
    "\\end{align}\n",
    "\n",
    "and given the reward \n",
    "$r_\\mathcal{X} = \\begin{bmatrix}\n",
    "+1\\\\\n",
    "+3\\\\\n",
    "-2\\\\\n",
    "+2\\\\\n",
    "+1\\\\\n",
    "0\\\\\n",
    "\\end{bmatrix}$\n",
    "\n",
    "For $\\gamma$=0.1\n",
    "\\begin{align}\n",
    "v_\\mathcal{X} = \\left( \\begin{bmatrix}\n",
    "1 & 0 & 0 & 0 & 0 & 0 \\\\\n",
    "0 & 1 & 0 & 0 & 0 & 0 \\\\\n",
    "0 & 0 & 1 & 0 & 0 & 0 \\\\\n",
    "0 & 0 & 0 & 1 & 0 & 0 \\\\\n",
    "0 & 0 & 0 & 0 & 1 & 0 \\\\\n",
    "0 & 0 & 0 & 0 & 0 & 1 \\\\\n",
    "\\end{bmatrix} - \\begin{bmatrix}\n",
    "0 & 0.2 & 0.5 & 0.1 & 0.1 & 0.1 \\\\\n",
    "0 & 0 & 0.2 & 0.5 & 0 & 0.3 \\\\\n",
    "0 & 0.4 & 0 & 0.6 & 0 & 0 \\\\\n",
    "0 & 0.1 & 0.3 & 0 & 0.2 & 0.4 \\\\\n",
    "0 & 0 & 0 & 0.1 & 0.7 & 0.2 \\\\\n",
    "0 & 0 & 0 & 0 & 0 & 0 \\\\\n",
    "\\end{bmatrix} \\right)^{-1} \\begin{bmatrix}\n",
    "+1\\\\\n",
    "+3\\\\\n",
    "-2\\\\\n",
    "+2\\\\\n",
    "+1\\\\\n",
    "0\\\\\n",
    "\\end{bmatrix}\n",
    "\\nonumber\n",
    "\\end{align}\n",
    "\n",
    "\n",
    "Solving this, gives us:\n",
    " $v_\\mathcal{X} = \\begin{bmatrix}\n",
    "1.00439251\\\\\n",
    "3.06484478\\\\\n",
    "-1.75741452\\\\\n",
    "1.99986147\\\\\n",
    "1.0967727\\\\\n",
    "0\\\\\n",
    "\\end{bmatrix}$\n",
    "\n",
    "The most promising state is the one with the highest state-value. Thus the most promising state is Exercise with a state value of 3.06484478."
   ]
  },
  {
   "cell_type": "markdown",
   "metadata": {},
   "source": [
    "## 3) Markov Decision Process: State Transition\n",
    "\n",
    "The graph shows an MDP.\n",
    "The nodes are the states. \n",
    "In every state you can choose between two actions (Relax or Grind). \n",
    "Taken actions impact the state transition probability to the next state.\n",
    "If you, for example, \"Wake Up\" and decide to \"Relax\", there is a 50% chance that you \"Browse Social Media\" and a 50% chance that you \"Watch a Movie\", while if you decide to \"Grind\" there is a 100% chance that you \"Exercise\".\n",
    "\n",
    "Define the Relax state transition probabilitiy $\\mathcal{P}_{xx'}^{u=\\text{Relax}}$ and the Grinding state transition probability $\\mathcal{P}_{xx'}^{u=\\text{Grind}}$ of the graph shown in the figure below.\n",
    "\n",
    "![](action_state_transition_life_problem.png)\n",
    "\n",
    "With $p_k = \\begin{bmatrix}\n",
    "\\text{Pr}_k \\lbrace \\text{Wake Up} \\rbrace \\\\\n",
    "\\text{Pr}_k \\lbrace \\text{Exercise} \\rbrace \\\\\n",
    "\\text{Pr}_k \\lbrace \\text{Browse Social Media} \\rbrace \\\\\n",
    "\\text{Pr}_k \\lbrace \\text{Work} \\rbrace \\\\\n",
    "\\text{Pr}_k \\lbrace \\text{Watch a Movie}\\rbrace \\\\\n",
    "\\text{Pr}_k \\lbrace \\text{Sleep} \\rbrace \\\\\n",
    "\\end{bmatrix}^\\text{T}$"
   ]
  },
  {
   "cell_type": "markdown",
   "metadata": {},
   "source": [
    "## YOUR ANSWER HERE\n",
    "\n",
    "\n",
    "\\begin{align}\n",
    "\\mathcal{P}_{xx'}^{u=\\text{Relax}}&=\\begin{bmatrix}\n",
    "0 & 0 & 0.5 & 0 & 0.5 & 0 \\\\\n",
    "0 & 0 & 0 & 0 & 0.1 & 0.9 \\\\\n",
    "0 & 0 & 0 & 0 & 1 & 0 \\\\\n",
    "0 & 0 & 0 & 0 & 0.3 & 0.7 \\\\ \n",
    "0 & 0 & 0 & 0 & 1 & 0 \\\\ \n",
    "0 & 0 & 0 & 0 & 0 & 0 \\\\ \n",
    "\\end{bmatrix}\\\\\n",
    "\\mathcal{P}_{xx'}^{u=\\text{Grind}}&=\\begin{bmatrix}\n",
    "0 & 1 & 0 & 0 & 0 & 0 \\\\ \n",
    "0 & 0.2 & 0 & 0.8 & 0 & 0 \\\\ \n",
    "0 & 0.4 & 0 & 0.6 & 0 & 0 \\\\ \n",
    "0 & 1 & 0 & 0 & 0 & 0 \\\\ \n",
    "0 & 0 & 0 & 0 & 0 & 1 \\\\ \n",
    "0 & 0 & 0 & 0 & 0 & 0 \\\\ \n",
    "\\end{bmatrix}\n",
    "\\end{align}"
   ]
  },
  {
   "cell_type": "code",
   "execution_count": 19,
   "metadata": {},
   "outputs": [],
   "source": [
    "# YOUR ANSWER\n",
    "\n",
    "import numpy as np\n",
    "\n",
    "### BEGIN SOLUTION\n",
    "\n",
    "P_xx_relax = np.array([[0 , 0 , 0.5 , 0 , 0.5 , 0],\n",
    "                      [0 , 0 , 0 , 0 , 0.1 , 0.9],\n",
    "                      [0 , 0 , 0 , 0 , 1 , 0 ],\n",
    "                      [0 , 0 , 0 , 0 , 0.3 , 0.7],\n",
    "                      [0 , 0 , 0 , 0 , 1 , 0],\n",
    "                      [0 , 0 , 0 , 0 , 0 , 0]]) \n",
    "\n",
    "P_xx_grind = np.array([[0 , 1 , 0 , 0 , 0 , 0],\n",
    "                      [0 , 0.2 , 0 , 0.8 , 0 , 0],\n",
    "                      [0 , 0.4 , 0 , 0.6 , 0 , 0],\n",
    "                      [0 , 1 , 0 , 0 , 0 , 0],\n",
    "                      [0 , 0 , 0 , 0 , 0 , 1],\n",
    "                      [0 , 0 , 0 , 0 , 0 , 0]]) \n",
    "\n",
    "### END SOLUTION"
   ]
  },
  {
   "cell_type": "markdown",
   "metadata": {},
   "source": [
    "## 4) Markov Decision Process: Trivial Policy Evaluation\n",
    "\n",
    "The rewards for this problem are defined by:\n",
    "$r_\\mathcal{X} = r_\\mathcal{X}^{u=\\text{Grind}} = r_\\mathcal{X}^{u=\\text{Relax}} = \\begin{bmatrix}\n",
    "-1\\\\\n",
    "1\\\\\n",
    "-1\\\\\n",
    "2\\\\\n",
    "-1\\\\\n",
    "0\\\\\n",
    "\\end{bmatrix}$.\n",
    "\n",
    "How can we interprete these rewards?\n",
    "Evaluate both the relax policy and the grind policy using $\\gamma = 0.9$.\n",
    "\n",
    "Bonus question: Can we evaluate the state-value of $\\lbrace x=\\text{Watch a Movie}, u=\\text{Relax}\\rbrace$ for an infinite time horizon without the use of the Bellman equation?"
   ]
  },
  {
   "cell_type": "markdown",
   "metadata": {},
   "source": [
    "## YOUR ANSWER"
   ]
  },
  {
   "cell_type": "code",
   "execution_count": 23,
   "metadata": {},
   "outputs": [
    {
     "name": "stdout",
     "output_type": "stream",
     "text": [
      "[[-10. ]\n",
      " [  0.1]\n",
      " [-10. ]\n",
      " [ -0.7]\n",
      " [-10. ]\n",
      " [  0. ]]\n",
      "[[11.76744186]\n",
      " [14.18604651]\n",
      " [12.08139535]\n",
      " [14.76744186]\n",
      " [-1.        ]\n",
      " [ 0.        ]]\n",
      "state-value of {𝑥=Watch a Movie,𝑢=Relax} for an infinite time horizon without the use of the Bellman equation is : -10.000000000000002\n"
     ]
    }
   ],
   "source": [
    "# YOUR ANSWER\n",
    "\n",
    "import numpy as np\n",
    "\n",
    "### BEGIN SOLUTION\n",
    "\n",
    "P_xx_relax = np.array([[0 , 0 , 0.5 , 0 , 0.5 , 0],\n",
    "                      [0 , 0 , 0 , 0 , 0.1 , 0.9],\n",
    "                      [0 , 0 , 0 , 0 , 1 , 0 ],\n",
    "                      [0 , 0 , 0 , 0 , 0.3 , 0.7],\n",
    "                      [0 , 0 , 0 , 0 , 1 , 0],\n",
    "                      [0 , 0 , 0 , 0 , 0 , 0]]) \n",
    "\n",
    "P_xx_grind = np.array([[0 , 1 , 0 , 0 , 0 , 0],\n",
    "                      [0 , 0.2 , 0 , 0.8 , 0 , 0],\n",
    "                      [0 , 0.4 , 0 , 0.6 , 0 , 0],\n",
    "                      [0 , 1 , 0 , 0 , 0 , 0],\n",
    "                      [0 , 0 , 0 , 0 , 0 , 1],\n",
    "                      [0 , 0 , 0 , 0 , 0 , 0]]) \n",
    "\n",
    "gamma = 0.9\n",
    "r_X = np.array([-1, 1, -1, 2, -1, 0]).reshape(-1, 1)\n",
    "for P_xx in [P_xx_relax, P_xx_grind]:\n",
    "    v_X = np.matmul(np.linalg.inv(np.eye(6)-gamma*P_xx) , r_X)\n",
    "    print(v_X)\n",
    "    \n",
    "    \n",
    "# Bonus question: Can we evaluate the state-value of {𝑥=Watch a Movie,𝑢=Relax} for an infinite time horizon without the use of the Bellman equation?\n",
    "# CALCULATE x_4\n",
    "v_4 = -1*1/(1-0.9)\n",
    "print(\"state-value of {{𝑥=Watch a Movie,𝑢=Relax}} for an infinite time horizon without the use of the Bellman equation is : {}\".format(v_4))\n",
    "\n",
    "### END SOLUTION"
   ]
  },
  {
   "cell_type": "markdown",
   "metadata": {},
   "source": [
    "## 5) Action-Value Function Evalution\n",
    "\n",
    "Now, the policy is defined by:\n",
    "\\begin{align}\n",
    "\\pi(u_k=\\text{Grind} | x_k)&=\\alpha,\\\\\n",
    "\\pi(u_k=\\text{Relax} | x_k)&=1-\\alpha, \\forall x_k \\in \\mathcal{X}\n",
    "\\end{align}\n",
    "\n",
    "Calculate action-values for the problem as described using the 'fifty-fifty' policy ($\\alpha = 0.5$) according to the Bellman Expectation Equation: $q_\\pi(x_k, u_k) = \\mathcal{R}^u_x + \\gamma \\sum_{x_{k+1} \\in \\mathcal{X}} p^u_{xx'} v_\\pi(x_{k+1})$ $\\forall x_k, u_k \\in \\mathcal{X}, \\mathcal{U}$."
   ]
  },
  {
   "cell_type": "markdown",
   "metadata": {},
   "source": [
    "## YOUR ANSWER"
   ]
  },
  {
   "cell_type": "code",
   "execution_count": 24,
   "metadata": {},
   "outputs": [
    {
     "name": "stdout",
     "output_type": "stream",
     "text": [
      "[[-2.14207462  0.8647545 ]\n",
      " [ 0.83636364  3.30753525]\n",
      " [-2.63636364  1.19684006]\n",
      " [ 1.50909091  3.8647545 ]\n",
      " [-2.63636364 -1.        ]\n",
      " [ 0.          0.        ]]\n"
     ]
    }
   ],
   "source": [
    "# YOUR ANSWER\n",
    "\n",
    "import numpy as np\n",
    "\n",
    "### BEGIN SOLUTION\n",
    "\n",
    "gamma = 0.9\n",
    "alpha = 0.5\n",
    "no_states = 6\n",
    "no_actions = 2\n",
    "r_X = np.array([-1, 1, -1, 2, -1, 0]).reshape(-1, 1)\n",
    "q_XU = np.zeros([no_states, no_actions])\n",
    "\n",
    "P_xx_relax = np.array([[0 , 0 , 0.5 , 0 , 0.5 , 0],\n",
    "                      [0 , 0 , 0 , 0 , 0.1 , 0.9],\n",
    "                      [0 , 0 , 0 , 0 , 1 , 0 ],\n",
    "                      [0 , 0 , 0 , 0 , 0.3 , 0.7],\n",
    "                      [0 , 0 , 0 , 0 , 1 , 0],\n",
    "                      [0 , 0 , 0 , 0 , 0 , 0]]) \n",
    "\n",
    "P_xx_grind = np.array([[0 , 1 , 0 , 0 , 0 , 0],\n",
    "                      [0 , 0.2 , 0 , 0.8 , 0 , 0],\n",
    "                      [0 , 0.4 , 0 , 0.6 , 0 , 0],\n",
    "                      [0 , 1 , 0 , 0 , 0 , 0],\n",
    "                      [0 , 0 , 0 , 0 , 0 , 1],\n",
    "                      [0 , 0 , 0 , 0 , 0 , 0]]) \n",
    "\n",
    "P_xx_mean = alpha*P_xx_grind + (1-alpha)*P_xx_relax\n",
    "v_X = np.linalg.inv(np.eye(6)-gamma*P_xx_mean) @ r_X\n",
    "transition_tabs = np.dstack([P_xx_relax, P_xx_grind])\n",
    "q_XU = r_X + gamma * np.squeeze(np.transpose(transition_tabs, [0, 2, 1]) @ v_X)\n",
    "\n",
    "print(q_XU)\n",
    "\n",
    "\n",
    "\n",
    "### END SOLUTION"
   ]
  },
  {
   "cell_type": "markdown",
   "metadata": {},
   "source": [
    "## 6) Markov Decision Problem: Stochastic Policy Evalution\n",
    "\n",
    "Plot the state-value of the states \"Wake Up\" and \"Browse Social Media\" for different $\\alpha$. What do we see? Why?"
   ]
  },
  {
   "cell_type": "markdown",
   "metadata": {},
   "source": [
    "## YOUR ANSWER"
   ]
  },
  {
   "cell_type": "code",
   "execution_count": 25,
   "metadata": {},
   "outputs": [],
   "source": [
    "import numpy as np\n",
    "import matplotlib.pyplot as plt\n",
    "\n",
    "n = 6 # dimension of state space\n",
    "no_of_samples = 1000\n",
    "\n",
    "alphas = np.linspace(0, 1, no_of_samples)\n",
    "v_n_alpha = np.zeros([n, no_of_samples])\n",
    "\n",
    "gamma = 0.9\n",
    "alpha = 0.5\n",
    "no_states = 6\n",
    "no_actions = 2\n",
    "r_X = np.array([-1, 1, -1, 2, -1, 0]).reshape(-1, 1)\n",
    "q_XU = np.zeros([no_states, no_actions])\n",
    "\n",
    "P_xx_relax = np.array([[0 , 0 , 0.5 , 0 , 0.5 , 0],\n",
    "                      [0 , 0 , 0 , 0 , 0.1 , 0.9],\n",
    "                      [0 , 0 , 0 , 0 , 1 , 0 ],\n",
    "                      [0 , 0 , 0 , 0 , 0.3 , 0.7],\n",
    "                      [0 , 0 , 0 , 0 , 1 , 0],\n",
    "                      [0 , 0 , 0 , 0 , 0 , 0]]) \n",
    "\n",
    "P_xx_grind = np.array([[0 , 1 , 0 , 0 , 0 , 0],\n",
    "                      [0 , 0.2 , 0 , 0.8 , 0 , 0],\n",
    "                      [0 , 0.4 , 0 , 0.6 , 0 , 0],\n",
    "                      [0 , 1 , 0 , 0 , 0 , 0],\n",
    "                      [0 , 0 , 0 , 0 , 0 , 1],\n",
    "                      [0 , 0 , 0 , 0 , 0 , 0]]) \n",
    "\n",
    "alphas = alphas.reshape(-1, 1, 1)\n",
    "P_xx_mean = alphas * P_xx_grind + (1 - alphas)*P_xx_relax\n",
    "v_n_alpha = np.squeeze(np.linalg.inv(np.eye(6).reshape(1, 6, 6) - gamma * P_xx_mean) @ r_X).T"
   ]
  },
  {
   "cell_type": "code",
   "execution_count": 26,
   "metadata": {},
   "outputs": [
    {
     "data": {
      "image/png": "[encoded data removed]",
      "text/plain": [
       "<Figure size 1000x600 with 1 Axes>"
      ]
     },
     "metadata": {},
     "output_type": "display_data"
    }
   ],
   "source": [
    "plt.figure(figsize=[10, 6])\n",
    "states = [\"Wake Up\", \"Exercise\", \"Browse Social Media\", \"Work\", \"Watch a Movie\", \"Sleep\"]\n",
    "alphas = alphas.flatten()\n",
    "for state, vnalp in zip(states, v_n_alpha):\n",
    "    ls = '--' if state in ['Wake Up', 'Browse Social Media'] else '-'\n",
    "    plt.plot(alphas, vnalp, ls=ls, label=r\"$x=${}\".format(state))\n",
    "    \n",
    "plt.legend()\n",
    "plt.xlabel(r\"$\\alpha$\")\n",
    "plt.ylabel(r\"$v_\\pi(x)$\")\n",
    "plt.xlim([0, 1])\n",
    "\n",
    "plt.savefig('plot.png')"
   ]
  },
  {
   "cell_type": "code",
   "execution_count": null,
   "metadata": {},
   "outputs": [],
   "source": []
  }
 ],
 "metadata": {
  "kernelspec": {
   "display_name": "Python 3",
   "language": "python",
   "name": "python3"
  },
  "language_info": {
   "codemirror_mode": {
    "name": "ipython",
    "version": 3
   },
   "file_extension": ".py",
   "mimetype": "text/x-python",
   "name": "python",
   "nbconvert_exporter": "python",
   "pygments_lexer": "ipython3",
   "version": "3.11.5"
  }
 },
 "nbformat": 4,
 "nbformat_minor": 2
}
